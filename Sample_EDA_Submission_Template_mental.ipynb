{
  "nbformat": 4,
  "nbformat_minor": 0,
  "metadata": {
    "colab": {
      "private_outputs": true,
      "provenance": [],
      "collapsed_sections": [
        "vncDsAP0Gaoa",
        "FJNUwmbgGyua",
        "mDgbUHAGgjLW",
        "3RnN4peoiCZX",
        "x71ZqKXriCWQ",
        "7hBIi_osiCS2",
        "JlHwYmJAmNHm",
        "35m5QtbWiB9F",
        "PoPl-ycgm1ru",
        "H0kj-8xxnORC",
        "nA9Y7ga8ng1Z",
        "u3PMJOP6ngxN",
        "dauF4eBmngu3",
        "GF8Ens_Soomf",
        "0wOQAZs5pc--",
        "KSlN3yHqYklG",
        "EM7whBJCYoAo",
        "4Of9eVA-YrdM",
        "bamQiAODYuh1",
        "OH-pJp9IphqM",
        "PIIx-8_IphqN",
        "t27r6nlMphqO",
        "r2jJGEOYphqO",
        "b0JNsNcRphqO",
        "BZR9WyysphqO",
        "jj7wYXLtphqO",
        "eZrbJ2SmphqO",
        "rFu4xreNphqO",
        "YJ55k-q6phqO",
        "gCFgpxoyphqP",
        "OVtJsKN_phqQ",
        "lssrdh5qphqQ",
        "U2RJ9gkRphqQ",
        "1M8mcRywphqQ",
        "tgIPom80phqQ",
        "JMzcOPDDphqR",
        "x-EpHcCOp1ci",
        "X_VqEhTip1ck",
        "8zGJKyg5p1ck",
        "PVzmfK_Ep1ck",
        "n3dbpmDWp1ck",
        "ylSl6qgtp1ck",
        "ZWILFDl5p1ck",
        "M7G43BXep1ck",
        "Ag9LCva-p1cl",
        "E6MkPsBcp1cl",
        "2cELzS2fp1cl",
        "3MPXvC8up1cl",
        "NC_X3p0fY2L0",
        "UV0SzAkaZNRQ",
        "YPEH6qLeZNRQ",
        "q29F0dvdveiT",
        "EXh0U9oCveiU",
        "22aHeOlLveiV",
        "gIfDvo9L0UH2"
      ]
    },
    "kernelspec": {
      "name": "python3",
      "display_name": "Python 3"
    },
    "language_info": {
      "name": "python"
    }
  },
  "cells": [
    {
      "cell_type": "code",
      "source": [],
      "metadata": {
        "id": "I1apcow5dxii"
      },
      "execution_count": null,
      "outputs": []
    },
    {
      "cell_type": "markdown",
      "source": [
        "# **Project Name**    -\n",
        "\n"
      ],
      "metadata": {
        "id": "vncDsAP0Gaoa"
      }
    },
    {
      "cell_type": "markdown",
      "source": [
        "##### **Project Name**    -Mental Health in Tech – Exploratory Data Analysis\n",
        "##### **Project Type**    - EDA\n",
        "##### **Contribution**    - Individual\n",
        "##### **Member name -**   Shivam Gupta\n"
      ],
      "metadata": {
        "id": "beRrZCGUAJYm"
      }
    },
    {
      "cell_type": "markdown",
      "source": [
        "# **Project Summary -**"
      ],
      "metadata": {
        "id": "FJNUwmbgGyua"
      }
    },
    {
      "cell_type": "markdown",
      "source": [
        "In today’s fast-paced tech-driven world, mental health is one of the most pressing but often neglected aspects of employee well-being. The stigma associated with discussing mental health in professional environments often leads to silence, reduced productivity, burnout, and in extreme cases, resignation or breakdown. To understand this problem better, we explored a real-world dataset from Open Sourcing Mental Illness (OSMI) which contains responses from over 1,200 individuals working in the tech industry. The dataset primarily focuses on how mental health is perceived, treated, and handled in the workplace, along with related factors like remote work, company size, benefits, and personal history.\n",
        "\n",
        "The goal of this project was to perform Exploratory Data Analysis (EDA) to discover meaningful patterns and actionable insights from the survey. We started with data cleaning, where we removed unrealistic age values (e.g., under 18 or over 65), normalized inconsistent gender entries, and filled missing values in key columns like self_employed and work_interfere. After cleaning, we were left with a dataset of 1,250 reliable entries ready for analysis.\n",
        "\n",
        "The EDA was conducted through a series of targeted visualizations:\n",
        "\n",
        "Gender vs Treatment – Females and other gender groups were more likely to seek treatment than males, indicating a gender-based gap in openness or awareness.\n",
        "\n",
        "Family History vs Treatment – Those with a family history of mental illness were significantly more likely to seek help themselves, suggesting a strong influence of personal exposure.\n",
        "\n",
        "Remote Work vs Work Interference – People working remotely reported fewer work interferences due to mental health, indicating remote work could help ease stress for many.\n",
        "\n",
        "Company Size vs Benefits – Larger companies were more likely to offer mental health benefits. However, in smaller firms, a large number of respondents either lacked benefits or were unaware of them.\n",
        "\n",
        "Work Interfere vs Treatment – As the level of interference increased (from “rarely” to “often”), the probability of seeking treatment also increased.\n",
        "\n",
        "Mental Health Consequence vs Supervisor Discussion – Employees who feared negative consequences were much less likely to talk about their issues with supervisors, showing a clear need for safer, judgment-free environments.\n",
        "\n",
        "From this analysis, we derived several key business implications. Organizations need to not only provide mental health benefits but also actively educate employees about them. Remote work flexibility can be a powerful tool in reducing mental fatigue. Most importantly, stigma reduction and safe discussion environments are essential for increasing openness.\n",
        "\n",
        "This project demonstrates how simple survey data, when explored correctly, can uncover deep-rooted patterns affecting employee well-being. It helps HR and leadership teams make more inclusive and effective decisions. The insights gathered are not just numbers — they represent real human experiences that, when addressed properly, can improve both individual lives and organizational performance.\n",
        "\n"
      ],
      "metadata": {
        "id": "F6v_1wHtG2nS"
      }
    },
    {
      "cell_type": "markdown",
      "source": [
        "# **GitHub Link -**"
      ],
      "metadata": {
        "id": "w6K7xa23Elo4"
      }
    },
    {
      "cell_type": "markdown",
      "source": [],
      "metadata": {
        "id": "h1o69JH3Eqqn"
      }
    },
    {
      "cell_type": "markdown",
      "source": [
        "# **Problem Statement**\n"
      ],
      "metadata": {
        "id": "yQaldy8SH6Dl"
      }
    },
    {
      "cell_type": "markdown",
      "source": [
        "To explore how various workplace and personal factors (like remote work, family history, company size, etc.) affect mental health awareness and treatment-seeking behavior in the tech industry."
      ],
      "metadata": {
        "id": "DpeJGUA3kjGy"
      }
    },
    {
      "cell_type": "markdown",
      "source": [
        "#### **Define Your Business Objective?**"
      ],
      "metadata": {
        "id": "PH-0ReGfmX4f"
      }
    },
    {
      "cell_type": "markdown",
      "source": [
        "The objective is to identify key patterns and insights that can help organizations design better mental health policies, benefits, and work environments that support employee wellness."
      ],
      "metadata": {
        "id": "PhDvGCAqmjP1"
      }
    },
    {
      "cell_type": "markdown",
      "source": [
        "# **General Guidelines** : -  "
      ],
      "metadata": {
        "id": "mDgbUHAGgjLW"
      }
    },
    {
      "cell_type": "markdown",
      "source": [
        "1.   Well-structured, formatted, and commented code is required.\n",
        "2.   Exception Handling, Production Grade Code & Deployment Ready Code will be a plus. Those students will be awarded some additional credits.\n",
        "     \n",
        "     The additional credits will have advantages over other students during Star Student selection.\n",
        "       \n",
        "             [ Note: - Deployment Ready Code is defined as, the whole .ipynb notebook should be executable in one go\n",
        "                       without a single error logged. ]\n",
        "\n",
        "3.   Each and every logic should have proper comments.\n",
        "4. You may add as many number of charts you want. Make Sure for each and every chart the following format should be answered.\n",
        "        \n",
        "\n",
        "```\n",
        "# Chart visualization code\n",
        "```\n",
        "            \n",
        "\n",
        "*   Why did you pick the specific chart?\n",
        "*   What is/are the insight(s) found from the chart?\n",
        "* Will the gained insights help creating a positive business impact?\n",
        "Are there any insights that lead to negative growth? Justify with specific reason.\n",
        "\n",
        "5. You have to create at least 20 logical & meaningful charts having important insights.\n",
        "\n",
        "\n",
        "[ Hints : - Do the Vizualization in  a structured way while following \"UBM\" Rule.\n",
        "\n",
        "U - Univariate Analysis,\n",
        "\n",
        "B - Bivariate Analysis (Numerical - Categorical, Numerical - Numerical, Categorical - Categorical)\n",
        "\n",
        "M - Multivariate Analysis\n",
        " ]\n",
        "\n",
        "\n",
        "\n"
      ],
      "metadata": {
        "id": "ZrxVaUj-hHfC"
      }
    },
    {
      "cell_type": "markdown",
      "source": [
        "# ***Let's Begin !***"
      ],
      "metadata": {
        "id": "O_i_v8NEhb9l"
      }
    },
    {
      "cell_type": "markdown",
      "source": [
        "## ***1. Know Your Data***"
      ],
      "metadata": {
        "id": "HhfV-JJviCcP"
      }
    },
    {
      "cell_type": "markdown",
      "source": [
        "### Import Libraries"
      ],
      "metadata": {
        "id": "Y3lxredqlCYt"
      }
    },
    {
      "cell_type": "code",
      "source": [
        "# Import Libraries\n",
        "import pandas as pd\n",
        "import matplotlib.pyplot as plt\n",
        "import seaborn as sns\n",
        "\n",
        "# For cleaner visualssns.set(style=\"whitegrid\")\n",
        "sns.set(style=\"whitegrid\")"
      ],
      "metadata": {
        "id": "M8Vqi-pPk-HR"
      },
      "execution_count": null,
      "outputs": []
    },
    {
      "cell_type": "markdown",
      "source": [
        "### Dataset Loading"
      ],
      "metadata": {
        "id": "3RnN4peoiCZX"
      }
    },
    {
      "cell_type": "code",
      "source": [
        "# Load Dataset\n",
        "from google.colab import files\n",
        "uploaded = files.upload()"
      ],
      "metadata": {
        "id": "4CkvbW_SlZ_R"
      },
      "execution_count": null,
      "outputs": []
    },
    {
      "cell_type": "markdown",
      "source": [
        "### Dataset First View"
      ],
      "metadata": {
        "id": "x71ZqKXriCWQ"
      }
    },
    {
      "cell_type": "code",
      "source": [
        "# Dataset First Look\n",
        "df = pd.read_csv(\"cleaned_mental_health_survey.csv\")\n",
        "\n",
        "# Display first 5 rows\n",
        "df.head()\n"
      ],
      "metadata": {
        "id": "LWNFOSvLl09H"
      },
      "execution_count": null,
      "outputs": []
    },
    {
      "cell_type": "markdown",
      "source": [
        "### Dataset Rows & Columns count"
      ],
      "metadata": {
        "id": "7hBIi_osiCS2"
      }
    },
    {
      "cell_type": "code",
      "source": [
        "# Dataset Rows & Columns count\n",
        "print(\"Shape:\", df.shape)\n",
        "\n",
        "\n",
        "# Describe numeric data\n",
        "df.describe()"
      ],
      "metadata": {
        "id": "Kllu7SJgmLij"
      },
      "execution_count": null,
      "outputs": []
    },
    {
      "cell_type": "markdown",
      "source": [
        "### Dataset Information"
      ],
      "metadata": {
        "id": "JlHwYmJAmNHm"
      }
    },
    {
      "cell_type": "code",
      "source": [
        "# Dataset Info\n",
        "df.info()"
      ],
      "metadata": {
        "id": "e9hRXRi6meOf"
      },
      "execution_count": null,
      "outputs": []
    },
    {
      "cell_type": "markdown",
      "source": [
        "#### Duplicate Values"
      ],
      "metadata": {
        "id": "35m5QtbWiB9F"
      }
    },
    {
      "cell_type": "code",
      "source": [
        "# Dataset Duplicate Value Count\n",
        "df.duplicated().sum()"
      ],
      "metadata": {
        "id": "1sLdpKYkmox0"
      },
      "execution_count": null,
      "outputs": []
    },
    {
      "cell_type": "markdown",
      "source": [
        "#### Missing Values/Null Values"
      ],
      "metadata": {
        "id": "PoPl-ycgm1ru"
      }
    },
    {
      "cell_type": "code",
      "source": [
        "# Missing Values/Null Values Count\n",
        "df.isnull().sum()"
      ],
      "metadata": {
        "id": "GgHWkxvamxVg"
      },
      "execution_count": null,
      "outputs": []
    },
    {
      "cell_type": "code",
      "source": [
        "# Visualizing the missing values\n",
        "plt.figure(figsize=(10,6))\n",
        "sns.heatmap(df.isnull(), cbar=False, yticklabels=False, cmap='viridis')\n",
        "plt.title(\"Missing Values Heatmap\")\n",
        "plt.show()"
      ],
      "metadata": {
        "id": "3q5wnI3om9sJ"
      },
      "execution_count": null,
      "outputs": []
    },
    {
      "cell_type": "markdown",
      "source": [
        "### What did you know about your dataset?"
      ],
      "metadata": {
        "id": "H0kj-8xxnORC"
      }
    },
    {
      "cell_type": "markdown",
      "source": [
        "The dataset is a 2014 survey conducted by Open Sourcing Mental Illness (OSMI) targeting people working in the tech industry. It aims to understand how mental health is perceived and managed in tech workplaces.\n",
        "\n",
        "📊 The dataset originally had 1259 entries and over 20 columns.\n",
        "\n",
        "🎯 After cleaning, 1250 valid responses were retained for analysis.\n",
        "\n",
        "👤 Demographic details include Age, Gender, Country, and self_employed.\n",
        "\n",
        "🧠 Mental health-related columns include:\n",
        "\n",
        "treatment → whether the person has sought treatment\n",
        "\n",
        "family_history → if there's a history of mental illness in the family\n",
        "\n",
        "work_interfere → if mental health interferes with work\n",
        "\n",
        "benefits → whether the company provides mental health benefits\n",
        "\n",
        "supervisor → openness to discuss with supervisor\n",
        "\n",
        "🏢 Workplace features include:\n",
        "\n",
        "remote_work, no_employees (company size), wellness_program, etc.\n",
        "\n",
        "❌ Some columns like comments were not useful and were ignored in analysis.\n",
        "\n",
        "Overall, the dataset provides a strong foundation to explore how personal and organizational factors affect mental health awareness, treatment behavior, and workplace culture in the tech industry.\n",
        "\n"
      ],
      "metadata": {
        "id": "gfoNAAC-nUe_"
      }
    },
    {
      "cell_type": "markdown",
      "source": [
        "## ***2. Understanding Your Variables***"
      ],
      "metadata": {
        "id": "nA9Y7ga8ng1Z"
      }
    },
    {
      "cell_type": "code",
      "source": [
        "# Dataset Columns\n",
        "df.columns"
      ],
      "metadata": {
        "id": "j7xfkqrt5Ag5"
      },
      "execution_count": null,
      "outputs": []
    },
    {
      "cell_type": "code",
      "source": [
        "# Dataset Describe\n",
        "df.describe(include='all')"
      ],
      "metadata": {
        "id": "DnOaZdaE5Q5t"
      },
      "execution_count": null,
      "outputs": []
    },
    {
      "cell_type": "markdown",
      "source": [
        "### Variables Description"
      ],
      "metadata": {
        "id": "PBTbrJXOngz2"
      }
    },
    {
      "cell_type": "markdown",
      "source": [
        "## 📑 Variable Description\n",
        "\n",
        "| Column Name                 | Description |\n",
        "|----------------------------|-------------|\n",
        "| `Age`                      | Age of the respondent (in years) |\n",
        "| `Gender`                   | Gender identity of the respondent |\n",
        "| `Country`                  | Country where the respondent lives |\n",
        "| `self_employed`            | Whether the person is self-employed (Yes/No) |\n",
        "| `family_history`           | If there is any family history of mental illness (Yes/No) |\n",
        "| `treatment`                | Whether the respondent has sought treatment for mental health (Yes/No) |\n",
        "| `work_interfere`           | Whether mental health condition interferes with work (Never, Rarely, Sometimes, Often) |\n",
        "| `no_employees`             | Size of the company where the respondent works |\n",
        "| `remote_work`              | If the respondent works remotely (Yes/No) |\n",
        "| `tech_company`             | Whether the company is primarily tech-based (Yes/No) |\n",
        "| `benefits`                 | Does the employer provide mental health benefits? (Yes/No/Don't Know) |\n",
        "| `care_options`             | Are mental health care options available? (Yes/No/Not Sure) |\n",
        "| `wellness_program`         | Does the employer have a wellness program? (Yes/No/Don't Know) |\n",
        "| `seek_help`                | Is help easily accessible in the workplace? (Yes/No/Don't Know) |\n",
        "| `anonymity`                | Are mental health discussions anonymous/confidential? |\n",
        "| `leave`                    | Ease of taking medical leave for mental health |\n",
        "| `mental_health_consequence` | Fear of negative consequences of discussing mental health |\n",
        "| `phys_health_consequence`  | Fear of negative consequences of discussing physical health |\n",
        "| `coworkers`                | Willingness to discuss mental health with coworkers |\n",
        "| `supervisor`               | Willingness to discuss mental health with supervisor |\n",
        "| `mental_health_interview` | Willingness to discuss mental health during interviews |\n",
        "| `phys_health_interview`   | Willingness to discuss physical health during interviews |\n",
        "| `obs_consequence`         | Has the person observed negative consequences in others? |\n",
        "| `comments`                | Free-text comments (mostly empty, ignored in EDA) |\n"
      ],
      "metadata": {
        "id": "aJV4KIxSnxay"
      }
    },
    {
      "cell_type": "markdown",
      "source": [
        "### Check Unique Values for each variable."
      ],
      "metadata": {
        "id": "u3PMJOP6ngxN"
      }
    },
    {
      "cell_type": "code",
      "source": [
        "# Check Unique Values for each variable.\n",
        "for col in df.columns:\n",
        "  print(f\"{col}->{df[col].nunique()}unique values\")"
      ],
      "metadata": {
        "id": "zms12Yq5n-jE"
      },
      "execution_count": null,
      "outputs": []
    },
    {
      "cell_type": "markdown",
      "source": [
        "## 3. ***Data Wrangling***"
      ],
      "metadata": {
        "id": "dauF4eBmngu3"
      }
    },
    {
      "cell_type": "markdown",
      "source": [
        "###Data Wrangling Code"
      ],
      "metadata": {
        "id": "bKJF3rekwFvQ"
      }
    },
    {
      "cell_type": "code",
      "source": [
        "# Write your code to make your dataset analysis ready.\n",
        "# Load original dataset\n",
        "df = pd.read_csv('cleaned_mental_health_survey.csv')  # Adjust path if needed\n",
        "\n",
        "# ✅ 1. Remove unrealistic age values\n",
        "df = df[(df['Age'] >= 18) & (df['Age'] <= 65)]\n",
        "\n",
        "# ✅ 2. Normalize Gender\n",
        "def clean_gender(gender):\n",
        "    gender = str(gender).strip().lower()\n",
        "    if gender in ['male', 'm', 'man', 'male-ish', 'maile', 'mal', 'cis male', 'cis man']:\n",
        "        return 'Male'\n",
        "    elif gender in ['female', 'f', 'woman', 'cis female', 'femake', 'female (cis)', 'cis-female/femme']:\n",
        "        return 'Female'\n",
        "    else:\n",
        "        return 'Other'\n",
        "\n",
        "df['Gender'] = df['Gender'].apply(clean_gender)\n",
        "\n",
        "# ✅ 3. Fill missing values\n",
        "df['self_employed'].fillna('No', inplace=True)\n",
        "df['work_interfere'].fillna(\"Don't know\", inplace=True)\n",
        "\n",
        "# ✅ 4. Drop unnecessary columns (optional)\n",
        "df.drop(columns=['comments'], inplace=True)\n",
        "\n",
        "# ✅ 5. Save cleaned dataset (if needed)\n",
        "df.to_csv('/content/cleaned_mental_health_survey.csv', index=False)\n",
        "\n",
        "# ✅ 6. Show shape and preview\n",
        "print(\"Cleaned dataset shape:\", df.shape)\n",
        "df.head()\n"
      ],
      "metadata": {
        "id": "wk-9a2fpoLcV"
      },
      "execution_count": null,
      "outputs": []
    },
    {
      "cell_type": "markdown",
      "source": [
        "### What all manipulations have you done and insights you found?"
      ],
      "metadata": {
        "id": "MSa1f5Uengrz"
      }
    },
    {
      "cell_type": "markdown",
      "source": [
        "## 🔧 What All Manipulations Have You Done?\n",
        "\n",
        "### ✅ Data Cleaning & Wrangling:\n",
        "- Removed unrealistic age values (kept only ages between 18 and 65).\n",
        "- Normalized inconsistent gender entries (e.g., \"M\", \"male-ish\", etc. → \"Male\").\n",
        "- Filled missing values in:\n",
        "  - `self_employed` → filled with \"No\"\n",
        "  - `work_interfere` → filled with \"Don't know\"\n",
        "- Dropped irrelevant column `comments` (mostly empty)\n",
        "- Final cleaned dataset: **1250 rows** and **24 meaningful columns**\n",
        "\n",
        "---\n",
        "\n",
        "## 📊 Key Insights from the Data:\n",
        "\n",
        "1. **Gender vs Treatment**  \n",
        "   → Females were more likely to seek mental health treatment compared to males.  \n",
        "   → Indicates higher awareness and openness among females.\n",
        "\n",
        "2. **Family History vs Treatment**  \n",
        "   → Individuals with family history of mental illness were significantly more likely to seek treatment.  \n",
        "   → Shows influence of personal exposure on mental health awareness.\n",
        "\n",
        "3. **Remote Work vs Work Interference**  \n",
        "   → Remote workers reported less interference in work due to mental health.  \n",
        "   → Suggests remote work can be a protective factor for mental well-being.\n",
        "\n",
        "4. **Company Size vs Benefits**  \n",
        "   → Larger companies were more likely to offer mental health benefits.  \n",
        "   → Smaller companies had more \"Don’t know\" responses, indicating lack of communication or support.\n",
        "\n",
        "5. **Work Interfere vs Treatment**  \n",
        "   → The more a person’s mental health interfered with their work, the more likely they were to seek treatment.\n",
        "\n",
        "6. **Mental Health Consequence vs Supervisor Discussion**  \n",
        "   → People who feared negative consequences of opening up were less likely to talk to supervisors.  \n",
        "   → Indicates importance of creating a safe and stigma-free work environment.\n",
        "\n",
        "---\n"
      ],
      "metadata": {
        "id": "LbyXE7I1olp8"
      }
    },
    {
      "cell_type": "markdown",
      "source": [
        "## ***4. Data Vizualization, Storytelling & Experimenting with charts : Understand the relationships between variables***"
      ],
      "metadata": {
        "id": "GF8Ens_Soomf"
      }
    },
    {
      "cell_type": "markdown",
      "source": [
        "#### Chart - 1"
      ],
      "metadata": {
        "id": "0wOQAZs5pc--"
      }
    },
    {
      "cell_type": "code",
      "source": [
        "# Chart - 1 visualization code\n",
        "import seaborn as sns\n",
        "import matplotlib.pyplot as plt\n",
        "\n",
        "# Chart 1: Gender vs Treatment\n",
        "sns.set(style='whitegrid')\n",
        "plt.figure(figsize=(8,5))\n",
        "sns.countplot(data=df, x='Gender', hue='treatment', palette='Set2')\n",
        "plt.title('Gender vs Mental Health Treatment')\n",
        "plt.xlabel('Gender')\n",
        "plt.ylabel('Number of Respondents')\n",
        "plt.legend(title='Sought Treatment')\n",
        "plt.tight_layout()\n",
        "plt.show()\n"
      ],
      "metadata": {
        "id": "7v_ESjsspbW7"
      },
      "execution_count": null,
      "outputs": []
    },
    {
      "cell_type": "markdown",
      "source": [
        "##### 1. Why did you pick the specific chart?"
      ],
      "metadata": {
        "id": "K5QZ13OEpz2H"
      }
    },
    {
      "cell_type": "markdown",
      "source": [
        "I selected this chart to explore whether gender plays a role in seeking mental health treatment in the tech industry. Understanding gender-wise behavior is crucial to designing inclusive mental health support systems in workplaces.\n"
      ],
      "metadata": {
        "id": "XESiWehPqBRc"
      }
    },
    {
      "cell_type": "markdown",
      "source": [
        "##### 2. What is/are the insight(s) found from the chart?"
      ],
      "metadata": {
        "id": "lQ7QKXXCp7Bj"
      }
    },
    {
      "cell_type": "markdown",
      "source": [
        "The chart revealed that females are more likely to seek mental health treatment compared to males. A significant number of males did not take treatment, indicating a possible stigma or hesitation in opening up about mental health.\n"
      ],
      "metadata": {
        "id": "C_j1G7yiqdRP"
      }
    },
    {
      "cell_type": "markdown",
      "source": [
        "##### 3. Will the gained insights help creating a positive business impact?\n",
        "Are there any insights that lead to negative growth? Justify with specific reason."
      ],
      "metadata": {
        "id": "448CDAPjqfQr"
      }
    },
    {
      "cell_type": "markdown",
      "source": [
        "Yes, this insight can help HR and wellness teams to design gender-sensitive mental health campaigns. It highlights the need for more awareness programs targeted towards male employees to reduce stigma. Not addressing this gap could lead to long-term negative effects such as increased burnout and decreased productivity in male workforce segments.\n"
      ],
      "metadata": {
        "id": "3cspy4FjqxJW"
      }
    },
    {
      "cell_type": "markdown",
      "source": [
        "#### Chart - 2"
      ],
      "metadata": {
        "id": "KSlN3yHqYklG"
      }
    },
    {
      "cell_type": "code",
      "source": [
        "# Chart - 2 visualization code\n",
        "plt.figure(figsize=(7,5))\n",
        "sns.countplot(data=df, x='family_history', hue='treatment', palette='Set1')\n",
        "plt.title('Family History vs Mental Health Treatment')\n",
        "plt.xlabel('Family History of Mental Illness')\n",
        "plt.ylabel('Number of Respondents')\n",
        "plt.legend(title='Sought Treatment')\n",
        "plt.tight_layout()\n",
        "plt.show()\n"
      ],
      "metadata": {
        "id": "R4YgtaqtYklH"
      },
      "execution_count": null,
      "outputs": []
    },
    {
      "cell_type": "markdown",
      "source": [
        "##### 1. Why did you pick the specific chart?"
      ],
      "metadata": {
        "id": "t6dVpIINYklI"
      }
    },
    {
      "cell_type": "markdown",
      "source": [
        "This chart was selected to check whether having a family history of mental illness influences a person's decision to seek treatment. Family exposure may lead to better understanding and lower stigma.\n"
      ],
      "metadata": {
        "id": "5aaW0BYyYklI"
      }
    },
    {
      "cell_type": "markdown",
      "source": [
        "##### 2. What is/are the insight(s) found from the chart?"
      ],
      "metadata": {
        "id": "ijmpgYnKYklI"
      }
    },
    {
      "cell_type": "markdown",
      "source": [
        "The chart shows that people with a family history of mental illness are more likely to seek treatment. This suggests that prior awareness and experience may make individuals more open to addressing mental health issues.\n"
      ],
      "metadata": {
        "id": "PSx9atu2YklI"
      }
    },
    {
      "cell_type": "markdown",
      "source": [
        "##### 3. Will the gained insights help creating a positive business impact?\n",
        "Are there any insights that lead to negative growth? Justify with specific reason."
      ],
      "metadata": {
        "id": "-JiQyfWJYklI"
      }
    },
    {
      "cell_type": "markdown",
      "source": [
        "Yes, these insights can help HR teams identify employees who may be more vulnerable and proactively provide them with resources. Encouraging open conversation for everyone, regardless of background, ensures better mental health support and improves retention and productivity.\n"
      ],
      "metadata": {
        "id": "BcBbebzrYklV"
      }
    },
    {
      "cell_type": "markdown",
      "source": [
        "#### Chart - 3"
      ],
      "metadata": {
        "id": "EM7whBJCYoAo"
      }
    },
    {
      "cell_type": "code",
      "source": [
        "# Chart - 3 visualization code\n",
        "plt.figure(figsize=(8,5))\n",
        "sns.countplot(data=df, x='remote_work', hue='work_interfere', palette='Pastel1')\n",
        "plt.title('Remote Work vs Mental Health Work Interference')\n",
        "plt.xlabel('Remote Work')\n",
        "plt.ylabel('Number of Respondents')\n",
        "plt.legend(title='Work Interference', bbox_to_anchor=(1.05, 1), loc='upper left')\n",
        "plt.tight_layout()\n",
        "plt.show()\n"
      ],
      "metadata": {
        "id": "t6GMdE67YoAp"
      },
      "execution_count": null,
      "outputs": []
    },
    {
      "cell_type": "markdown",
      "source": [
        "##### 1. Why did you pick the specific chart?"
      ],
      "metadata": {
        "id": "fge-S5ZAYoAp"
      }
    },
    {
      "cell_type": "markdown",
      "source": [
        "This chart helps understand whether remote work impacts how much a person’s mental health interferes with their job performance. In the post-pandemic era, remote work has become an important factor affecting mental well-being.\n"
      ],
      "metadata": {
        "id": "5dBItgRVYoAp"
      }
    },
    {
      "cell_type": "markdown",
      "source": [
        "##### 2. What is/are the insight(s) found from the chart?"
      ],
      "metadata": {
        "id": "85gYPyotYoAp"
      }
    },
    {
      "cell_type": "markdown",
      "source": [
        "Respondents who work remotely are less likely to report frequent interference of mental health in their work. In contrast, those who do not work remotely report higher levels of interference.\n"
      ],
      "metadata": {
        "id": "4jstXR6OYoAp"
      }
    },
    {
      "cell_type": "markdown",
      "source": [
        "##### 3. Will the gained insights help creating a positive business impact?\n",
        "Are there any insights that lead to negative growth? Justify with specific reason."
      ],
      "metadata": {
        "id": "RoGjAbkUYoAp"
      }
    },
    {
      "cell_type": "markdown",
      "source": [
        "Yes, this insight supports the idea that offering remote or hybrid work options can reduce work stress and improve mental well-being. It can also lead to higher employee satisfaction, reduced absenteeism, and better performance.\n"
      ],
      "metadata": {
        "id": "zfJ8IqMcYoAp"
      }
    },
    {
      "cell_type": "markdown",
      "source": [
        "#### Chart - 4"
      ],
      "metadata": {
        "id": "4Of9eVA-YrdM"
      }
    },
    {
      "cell_type": "code",
      "source": [
        "# Chart - 4 visualization code\n",
        "plt.figure(figsize=(10,5))\n",
        "sns.countplot(data=df, x='no_employees', hue='benefits', palette='Set3')\n",
        "plt.title('Company Size vs Availability of Mental Health Benefits')\n",
        "plt.xlabel('Company Size (No. of Employees)')\n",
        "plt.ylabel('Number of Respondents')\n",
        "plt.xticks(rotation=45)\n",
        "plt.legend(title='Mental Health Benefits')\n",
        "plt.tight_layout()\n",
        "plt.show()\n"
      ],
      "metadata": {
        "id": "irlUoxc8YrdO"
      },
      "execution_count": null,
      "outputs": []
    },
    {
      "cell_type": "markdown",
      "source": [
        "##### 1. Why did you pick the specific chart?"
      ],
      "metadata": {
        "id": "iky9q4vBYrdO"
      }
    },
    {
      "cell_type": "markdown",
      "source": [
        "This chart was chosen to understand whether company size influences the availability of mental health benefits. Larger companies usually have more structured policies, and this chart helps verify if that’s true.\n"
      ],
      "metadata": {
        "id": "aJRCwT6DYrdO"
      }
    },
    {
      "cell_type": "markdown",
      "source": [
        "##### 2. What is/are the insight(s) found from the chart?"
      ],
      "metadata": {
        "id": "F6T5p64dYrdO"
      }
    },
    {
      "cell_type": "markdown",
      "source": [
        "Larger companies are more likely to offer mental health benefits to employees. Smaller companies either lack such policies or employees are unaware of them, as seen by the high number of \"Don't know\" responses.\n"
      ],
      "metadata": {
        "id": "Xx8WAJvtYrdO"
      }
    },
    {
      "cell_type": "markdown",
      "source": [
        "##### 3. Will the gained insights help creating a positive business impact?\n",
        "Are there any insights that lead to negative growth? Justify with specific reason."
      ],
      "metadata": {
        "id": "y-Ehk30pYrdP"
      }
    },
    {
      "cell_type": "markdown",
      "source": [
        "Yes, these insights show that awareness and structured benefits are essential, especially for small companies. They can use this insight to improve employee care by introducing basic mental health support policies. Ignoring this may lead to employee dissatisfaction and high turnover.\n"
      ],
      "metadata": {
        "id": "jLNxxz7MYrdP"
      }
    },
    {
      "cell_type": "markdown",
      "source": [
        "#### Chart - 5"
      ],
      "metadata": {
        "id": "bamQiAODYuh1"
      }
    },
    {
      "cell_type": "code",
      "source": [
        "# Chart - 5 visualization code\n",
        "plt.figure(figsize=(8,5))\n",
        "sns.countplot(data=df, x='work_interfere', hue='treatment', palette='Set2')\n",
        "plt.title('Work Interference due to Mental Health vs Seeking Treatment')\n",
        "plt.xlabel('Mental Health Interference with Work')\n",
        "plt.ylabel('Number of Respondents')\n",
        "plt.legend(title='Sought Treatment')\n",
        "plt.tight_layout()\n",
        "plt.show()\n"
      ],
      "metadata": {
        "id": "TIJwrbroYuh3"
      },
      "execution_count": null,
      "outputs": []
    },
    {
      "cell_type": "markdown",
      "source": [
        "##### 1. Why did you pick the specific chart?"
      ],
      "metadata": {
        "id": "QHF8YVU7Yuh3"
      }
    },
    {
      "cell_type": "markdown",
      "source": [
        "This chart was selected to analyze how much mental health interference at work motivates individuals to seek treatment. It helps understand whether severity of the condition impacts action.\n"
      ],
      "metadata": {
        "id": "dcxuIMRPYuh3"
      }
    },
    {
      "cell_type": "markdown",
      "source": [
        "##### 2. What is/are the insight(s) found from the chart?"
      ],
      "metadata": {
        "id": "GwzvFGzlYuh3"
      }
    },
    {
      "cell_type": "markdown",
      "source": [
        "Respondents who reported “Often” or “Sometimes” interference in work due to mental health were more likely to seek treatment. Those with no or rare interference had a lower tendency to get help.\n"
      ],
      "metadata": {
        "id": "uyqkiB8YYuh3"
      }
    },
    {
      "cell_type": "markdown",
      "source": [
        "##### 3. Will the gained insights help creating a positive business impact?\n",
        "Are there any insights that lead to negative growth? Justify with specific reason."
      ],
      "metadata": {
        "id": "qYpmQ266Yuh3"
      }
    },
    {
      "cell_type": "markdown",
      "source": [
        "Yes, this insight can help HR departments identify patterns of performance drop caused by mental health. Proactively offering support to such employees can prevent absenteeism, stress-related resignations, and productivity loss.\n"
      ],
      "metadata": {
        "id": "_WtzZ_hCYuh4"
      }
    },
    {
      "cell_type": "markdown",
      "source": [
        "#### Chart - 6"
      ],
      "metadata": {
        "id": "OH-pJp9IphqM"
      }
    },
    {
      "cell_type": "code",
      "source": [
        "# Chart - 6 visualization code\n",
        "plt.figure(figsize=(8,5))\n",
        "sns.countplot(data=df, x='mental_health_consequence', hue='supervisor', palette='coolwarm')\n",
        "plt.title('Fear of Consequence vs Openness with Supervisor')\n",
        "plt.xlabel('Fear of Consequence')\n",
        "plt.ylabel('Number of Respondents')\n",
        "plt.legend(title='Willing to Discuss with Supervisor')\n",
        "plt.tight_layout()\n",
        "plt.show()\n"
      ],
      "metadata": {
        "id": "kuRf4wtuphqN"
      },
      "execution_count": null,
      "outputs": []
    },
    {
      "cell_type": "markdown",
      "source": [
        "##### 1. Why did you pick the specific chart?"
      ],
      "metadata": {
        "id": "bbFf2-_FphqN"
      }
    },
    {
      "cell_type": "markdown",
      "source": [
        "This chart was chosen to understand whether fear of negative consequences prevents employees from discussing mental health issues with their supervisors. It helps identify the impact of workplace stigma.\n"
      ],
      "metadata": {
        "id": "loh7H2nzphqN"
      }
    },
    {
      "cell_type": "markdown",
      "source": [
        "##### 2. What is/are the insight(s) found from the chart?"
      ],
      "metadata": {
        "id": "_ouA3fa0phqN"
      }
    },
    {
      "cell_type": "markdown",
      "source": [
        "Respondents who feared negative consequences (“Yes”) were significantly less likely to talk to their supervisors about mental health issues. In contrast, those who felt safe (“No”) were more open.\n"
      ],
      "metadata": {
        "id": "VECbqPI7phqN"
      }
    },
    {
      "cell_type": "markdown",
      "source": [
        "##### 3. Will the gained insights help creating a positive business impact?\n",
        "Are there any insights that lead to negative growth? Justify with specific reason."
      ],
      "metadata": {
        "id": "Seke61FWphqN"
      }
    },
    {
      "cell_type": "markdown",
      "source": [
        "Yes, this insight shows the importance of creating a judgment-free environment. If not addressed, fear of consequences may lead to silence, poor performance, and loss of trust in management. Promoting openness can improve team morale and employee retention.\n"
      ],
      "metadata": {
        "id": "DW4_bGpfphqN"
      }
    },
    {
      "cell_type": "markdown",
      "source": [
        "#### Chart - 7"
      ],
      "metadata": {
        "id": "PIIx-8_IphqN"
      }
    },
    {
      "cell_type": "code",
      "source": [
        "# Chart - 7 visualization code"
      ],
      "metadata": {
        "id": "lqAIGUfyphqO"
      },
      "execution_count": null,
      "outputs": []
    },
    {
      "cell_type": "markdown",
      "source": [
        "##### 1. Why did you pick the specific chart?"
      ],
      "metadata": {
        "id": "t27r6nlMphqO"
      }
    },
    {
      "cell_type": "markdown",
      "source": [
        "Answer Here."
      ],
      "metadata": {
        "id": "iv6ro40sphqO"
      }
    },
    {
      "cell_type": "markdown",
      "source": [
        "##### 2. What is/are the insight(s) found from the chart?"
      ],
      "metadata": {
        "id": "r2jJGEOYphqO"
      }
    },
    {
      "cell_type": "markdown",
      "source": [
        "Answer Here"
      ],
      "metadata": {
        "id": "Po6ZPi4hphqO"
      }
    },
    {
      "cell_type": "markdown",
      "source": [
        "##### 3. Will the gained insights help creating a positive business impact?\n",
        "Are there any insights that lead to negative growth? Justify with specific reason."
      ],
      "metadata": {
        "id": "b0JNsNcRphqO"
      }
    },
    {
      "cell_type": "markdown",
      "source": [
        "Answer Here"
      ],
      "metadata": {
        "id": "xvSq8iUTphqO"
      }
    },
    {
      "cell_type": "markdown",
      "source": [
        "#### Chart - 8"
      ],
      "metadata": {
        "id": "BZR9WyysphqO"
      }
    },
    {
      "cell_type": "code",
      "source": [
        "# Chart - 8 visualization code"
      ],
      "metadata": {
        "id": "TdPTWpAVphqO"
      },
      "execution_count": null,
      "outputs": []
    },
    {
      "cell_type": "markdown",
      "source": [
        "##### 1. Why did you pick the specific chart?"
      ],
      "metadata": {
        "id": "jj7wYXLtphqO"
      }
    },
    {
      "cell_type": "markdown",
      "source": [
        "Answer Here."
      ],
      "metadata": {
        "id": "Ob8u6rCTphqO"
      }
    },
    {
      "cell_type": "markdown",
      "source": [
        "##### 2. What is/are the insight(s) found from the chart?"
      ],
      "metadata": {
        "id": "eZrbJ2SmphqO"
      }
    },
    {
      "cell_type": "markdown",
      "source": [
        "Answer Here"
      ],
      "metadata": {
        "id": "mZtgC_hjphqO"
      }
    },
    {
      "cell_type": "markdown",
      "source": [
        "##### 3. Will the gained insights help creating a positive business impact?\n",
        "Are there any insights that lead to negative growth? Justify with specific reason."
      ],
      "metadata": {
        "id": "rFu4xreNphqO"
      }
    },
    {
      "cell_type": "markdown",
      "source": [
        "Answer Here"
      ],
      "metadata": {
        "id": "ey_0qi68phqO"
      }
    },
    {
      "cell_type": "markdown",
      "source": [
        "#### Chart - 9"
      ],
      "metadata": {
        "id": "YJ55k-q6phqO"
      }
    },
    {
      "cell_type": "code",
      "source": [
        "# Chart - 9 visualization code"
      ],
      "metadata": {
        "id": "B2aS4O1ophqO"
      },
      "execution_count": null,
      "outputs": []
    },
    {
      "cell_type": "markdown",
      "source": [
        "##### 1. Why did you pick the specific chart?"
      ],
      "metadata": {
        "id": "gCFgpxoyphqP"
      }
    },
    {
      "cell_type": "markdown",
      "source": [
        "Answer Here."
      ],
      "metadata": {
        "id": "TVxDimi2phqP"
      }
    },
    {
      "cell_type": "markdown",
      "source": [
        "##### 2. What is/are the insight(s) found from the chart?"
      ],
      "metadata": {
        "id": "OVtJsKN_phqQ"
      }
    },
    {
      "cell_type": "markdown",
      "source": [
        "Answer Here"
      ],
      "metadata": {
        "id": "ngGi97qjphqQ"
      }
    },
    {
      "cell_type": "markdown",
      "source": [
        "##### 3. Will the gained insights help creating a positive business impact?\n",
        "Are there any insights that lead to negative growth? Justify with specific reason."
      ],
      "metadata": {
        "id": "lssrdh5qphqQ"
      }
    },
    {
      "cell_type": "markdown",
      "source": [
        "Answer Here"
      ],
      "metadata": {
        "id": "tBpY5ekJphqQ"
      }
    },
    {
      "cell_type": "markdown",
      "source": [
        "#### Chart - 10"
      ],
      "metadata": {
        "id": "U2RJ9gkRphqQ"
      }
    },
    {
      "cell_type": "code",
      "source": [
        "# Chart - 10 visualization code"
      ],
      "metadata": {
        "id": "GM7a4YP4phqQ"
      },
      "execution_count": null,
      "outputs": []
    },
    {
      "cell_type": "markdown",
      "source": [
        "##### 1. Why did you pick the specific chart?"
      ],
      "metadata": {
        "id": "1M8mcRywphqQ"
      }
    },
    {
      "cell_type": "markdown",
      "source": [
        "Answer Here."
      ],
      "metadata": {
        "id": "8agQvks0phqQ"
      }
    },
    {
      "cell_type": "markdown",
      "source": [
        "##### 2. What is/are the insight(s) found from the chart?"
      ],
      "metadata": {
        "id": "tgIPom80phqQ"
      }
    },
    {
      "cell_type": "markdown",
      "source": [
        "Answer Here"
      ],
      "metadata": {
        "id": "Qp13pnNzphqQ"
      }
    },
    {
      "cell_type": "markdown",
      "source": [
        "##### 3. Will the gained insights help creating a positive business impact?\n",
        "Are there any insights that lead to negative growth? Justify with specific reason."
      ],
      "metadata": {
        "id": "JMzcOPDDphqR"
      }
    },
    {
      "cell_type": "markdown",
      "source": [
        "Answer Here"
      ],
      "metadata": {
        "id": "R4Ka1PC2phqR"
      }
    },
    {
      "cell_type": "markdown",
      "source": [
        "#### Chart - 11"
      ],
      "metadata": {
        "id": "x-EpHcCOp1ci"
      }
    },
    {
      "cell_type": "code",
      "source": [
        "# Chart - 11 visualization code"
      ],
      "metadata": {
        "id": "mAQTIvtqp1cj"
      },
      "execution_count": null,
      "outputs": []
    },
    {
      "cell_type": "markdown",
      "source": [
        "##### 1. Why did you pick the specific chart?"
      ],
      "metadata": {
        "id": "X_VqEhTip1ck"
      }
    },
    {
      "cell_type": "markdown",
      "source": [
        "Answer Here."
      ],
      "metadata": {
        "id": "-vsMzt_np1ck"
      }
    },
    {
      "cell_type": "markdown",
      "source": [
        "##### 2. What is/are the insight(s) found from the chart?"
      ],
      "metadata": {
        "id": "8zGJKyg5p1ck"
      }
    },
    {
      "cell_type": "markdown",
      "source": [
        "Answer Here"
      ],
      "metadata": {
        "id": "ZYdMsrqVp1ck"
      }
    },
    {
      "cell_type": "markdown",
      "source": [
        "##### 3. Will the gained insights help creating a positive business impact?\n",
        "Are there any insights that lead to negative growth? Justify with specific reason."
      ],
      "metadata": {
        "id": "PVzmfK_Ep1ck"
      }
    },
    {
      "cell_type": "markdown",
      "source": [
        "Answer Here"
      ],
      "metadata": {
        "id": "druuKYZpp1ck"
      }
    },
    {
      "cell_type": "markdown",
      "source": [
        "#### Chart - 12"
      ],
      "metadata": {
        "id": "n3dbpmDWp1ck"
      }
    },
    {
      "cell_type": "code",
      "source": [
        "# Chart - 12 visualization code"
      ],
      "metadata": {
        "id": "bwevp1tKp1ck"
      },
      "execution_count": null,
      "outputs": []
    },
    {
      "cell_type": "markdown",
      "source": [
        "##### 1. Why did you pick the specific chart?"
      ],
      "metadata": {
        "id": "ylSl6qgtp1ck"
      }
    },
    {
      "cell_type": "markdown",
      "source": [
        "Answer Here."
      ],
      "metadata": {
        "id": "m2xqNkiQp1ck"
      }
    },
    {
      "cell_type": "markdown",
      "source": [
        "##### 2. What is/are the insight(s) found from the chart?"
      ],
      "metadata": {
        "id": "ZWILFDl5p1ck"
      }
    },
    {
      "cell_type": "markdown",
      "source": [
        "Answer Here"
      ],
      "metadata": {
        "id": "x-lUsV2mp1ck"
      }
    },
    {
      "cell_type": "markdown",
      "source": [
        "##### 3. Will the gained insights help creating a positive business impact?\n",
        "Are there any insights that lead to negative growth? Justify with specific reason."
      ],
      "metadata": {
        "id": "M7G43BXep1ck"
      }
    },
    {
      "cell_type": "markdown",
      "source": [
        "Answer Here"
      ],
      "metadata": {
        "id": "5wwDJXsLp1cl"
      }
    },
    {
      "cell_type": "markdown",
      "source": [
        "#### Chart - 13"
      ],
      "metadata": {
        "id": "Ag9LCva-p1cl"
      }
    },
    {
      "cell_type": "code",
      "source": [
        "# Chart - 13 visualization code"
      ],
      "metadata": {
        "id": "EUfxeq9-p1cl"
      },
      "execution_count": null,
      "outputs": []
    },
    {
      "cell_type": "markdown",
      "source": [
        "##### 1. Why did you pick the specific chart?"
      ],
      "metadata": {
        "id": "E6MkPsBcp1cl"
      }
    },
    {
      "cell_type": "markdown",
      "source": [
        "Answer Here."
      ],
      "metadata": {
        "id": "V22bRsFWp1cl"
      }
    },
    {
      "cell_type": "markdown",
      "source": [
        "##### 2. What is/are the insight(s) found from the chart?"
      ],
      "metadata": {
        "id": "2cELzS2fp1cl"
      }
    },
    {
      "cell_type": "markdown",
      "source": [
        "Answer Here"
      ],
      "metadata": {
        "id": "ozQPc2_Ip1cl"
      }
    },
    {
      "cell_type": "markdown",
      "source": [
        "##### 3. Will the gained insights help creating a positive business impact?\n",
        "Are there any insights that lead to negative growth? Justify with specific reason."
      ],
      "metadata": {
        "id": "3MPXvC8up1cl"
      }
    },
    {
      "cell_type": "markdown",
      "source": [
        "Answer Here"
      ],
      "metadata": {
        "id": "GL8l1tdLp1cl"
      }
    },
    {
      "cell_type": "markdown",
      "source": [
        "#### Chart - 14 - Correlation Heatmap"
      ],
      "metadata": {
        "id": "NC_X3p0fY2L0"
      }
    },
    {
      "cell_type": "code",
      "source": [
        "# Correlation Heatmap visualization code"
      ],
      "metadata": {
        "id": "xyC9zolEZNRQ"
      },
      "execution_count": null,
      "outputs": []
    },
    {
      "cell_type": "markdown",
      "source": [
        "##### 1. Why did you pick the specific chart?"
      ],
      "metadata": {
        "id": "UV0SzAkaZNRQ"
      }
    },
    {
      "cell_type": "markdown",
      "source": [
        "Answer Here."
      ],
      "metadata": {
        "id": "DVPuT8LYZNRQ"
      }
    },
    {
      "cell_type": "markdown",
      "source": [
        "##### 2. What is/are the insight(s) found from the chart?"
      ],
      "metadata": {
        "id": "YPEH6qLeZNRQ"
      }
    },
    {
      "cell_type": "markdown",
      "source": [
        "Answer Here"
      ],
      "metadata": {
        "id": "bfSqtnDqZNRR"
      }
    },
    {
      "cell_type": "markdown",
      "source": [
        "#### Chart - 15 - Pair Plot"
      ],
      "metadata": {
        "id": "q29F0dvdveiT"
      }
    },
    {
      "cell_type": "code",
      "source": [
        "# Pair Plot visualization code"
      ],
      "metadata": {
        "id": "o58-TEIhveiU"
      },
      "execution_count": null,
      "outputs": []
    },
    {
      "cell_type": "markdown",
      "source": [
        "##### 1. Why did you pick the specific chart?"
      ],
      "metadata": {
        "id": "EXh0U9oCveiU"
      }
    },
    {
      "cell_type": "markdown",
      "source": [
        "Answer Here."
      ],
      "metadata": {
        "id": "eMmPjTByveiU"
      }
    },
    {
      "cell_type": "markdown",
      "source": [
        "##### 2. What is/are the insight(s) found from the chart?"
      ],
      "metadata": {
        "id": "22aHeOlLveiV"
      }
    },
    {
      "cell_type": "markdown",
      "source": [
        "Answer Here"
      ],
      "metadata": {
        "id": "uPQ8RGwHveiV"
      }
    },
    {
      "cell_type": "markdown",
      "source": [
        "## **5. Solution to Business Objective**"
      ],
      "metadata": {
        "id": "JcMwzZxoAimU"
      }
    },
    {
      "cell_type": "markdown",
      "source": [
        "#### What do you suggest the client to achieve Business Objective ?\n",
        "Explain Briefly."
      ],
      "metadata": {
        "id": "8G2x9gOozGDZ"
      }
    },
    {
      "cell_type": "markdown",
      "source": [
        "Based on the EDA, we recommend the following actionable steps to achieve the business objective of improving employee mental health and workplace well-being:\n",
        "\n",
        "1. **Encourage Open Conversations**: Build a culture where discussing mental health is normal, especially among male employees and those who fear negative consequences.\n",
        "\n",
        "2. **Provide Structured Support**: Ensure all companies, regardless of size, offer clear and accessible mental health benefits and wellness programs.\n",
        "\n",
        "3. **Remote Work Options**: Promote flexible and remote working where possible, as it reduces work-related mental stress.\n",
        "\n",
        "4. **Targeted Awareness Campaigns**: Launch initiatives focused on employees with family history or high work interference to proactively support them.\n",
        "\n",
        "These steps will help reduce stigma, improve retention, and foster a healthier, more productive workforce.\n"
      ],
      "metadata": {
        "id": "pASKb0qOza21"
      }
    },
    {
      "cell_type": "markdown",
      "source": [
        "# **Conclusion**"
      ],
      "metadata": {
        "id": "gCX9965dhzqZ"
      }
    },
    {
      "cell_type": "markdown",
      "source": [
        "This EDA project provided key insights into how gender, company culture, work interference, and personal background influence mental health treatment behavior in the tech industry. Our analysis showed that larger companies offer better support, remote work reduces interference, and openness varies based on stigma and company environment.\n",
        "\n",
        "By understanding these patterns, organizations can build better wellness policies and encourage employees to seek help without hesitation. Ultimately, promoting mental health at the workplace is not just a moral responsibility, but a strategic move to improve productivity and employee satisfaction.\n"
      ],
      "metadata": {
        "id": "Fjb1IsQkh3yE"
      }
    },
    {
      "cell_type": "markdown",
      "source": [
        "### ***Hurrah! You have successfully completed your EDA Capstone Project !!!***"
      ],
      "metadata": {
        "id": "gIfDvo9L0UH2"
      }
    },
    {
      "cell_type": "code",
      "source": [],
      "metadata": {
        "id": "dYX880etpL0x"
      },
      "execution_count": null,
      "outputs": []
    },
    {
      "cell_type": "code",
      "source": [],
      "metadata": {
        "id": "-6Vl263upPVI"
      },
      "execution_count": null,
      "outputs": []
    }
  ]
}