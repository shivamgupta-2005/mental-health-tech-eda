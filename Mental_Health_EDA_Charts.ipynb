{
 "cells": [
  {
   "cell_type": "markdown",
   "id": "24dad6c6",
   "metadata": {},
   "source": [
    "## 🔹 Import Libraries"
   ]
  },
  {
   "cell_type": "code",
   "execution_count": null,
   "id": "47de4d93",
   "metadata": {},
   "outputs": [],
   "source": [
    "import pandas as pd\n",
    "import numpy as np\n",
    "import seaborn as sns\n",
    "import matplotlib.pyplot as plt\n",
    "\n",
    "sns.set(style='whitegrid')\n"
   ]
  },
  {
   "cell_type": "markdown",
   "id": "24b6cee4",
   "metadata": {},
   "source": [
    "## 🔹 Load Dataset"
   ]
  },
  {
   "cell_type": "code",
   "execution_count": null,
   "id": "f1ca5dd7",
   "metadata": {},
   "outputs": [],
   "source": [
    "df = pd.read_csv('/content/cleaned_mental_health_survey.csv')  # Upload the CSV file in Colab first\n",
    "df.head()\n"
   ]
  },
  {
   "cell_type": "markdown",
   "id": "e69015e0",
   "metadata": {},
   "source": [
    "## 🔹 Dataset Overview"
   ]
  },
  {
   "cell_type": "code",
   "execution_count": null,
   "id": "a59c84d7",
   "metadata": {},
   "outputs": [],
   "source": [
    "print(\"Shape:\", df.shape)\n",
    "df.info()\n",
    "df.isnull().sum()\n",
    "df.duplicated().sum()"
   ]
  },
  {
   "cell_type": "markdown",
   "id": "b4a30ade",
   "metadata": {},
   "source": [
    "## 🔹 Describe Dataset & Unique Values"
   ]
  },
  {
   "cell_type": "code",
   "execution_count": null,
   "id": "5c2601fe",
   "metadata": {},
   "outputs": [],
   "source": [
    "df.describe(include='all')\n",
    "for col in df.columns:\n",
    "    print(f\"{col}: {df[col].nunique()} unique values\")"
   ]
  },
  {
   "cell_type": "markdown",
   "id": "94654443",
   "metadata": {},
   "source": [
    "## 📊 Chart 1: Gender vs Treatment"
   ]
  },
  {
   "cell_type": "code",
   "execution_count": null,
   "id": "4ed2d430",
   "metadata": {},
   "outputs": [],
   "source": [
    "plt.figure(figsize=(8,5))\n",
    "sns.countplot(data=df, x='Gender', hue='treatment', palette='Set2')\n",
    "plt.title('Gender vs Mental Health Treatment')\n",
    "plt.xlabel('Gender')\n",
    "plt.ylabel('Number of Respondents')\n",
    "plt.legend(title='Sought Treatment')\n",
    "plt.tight_layout()\n",
    "plt.show()"
   ]
  },
  {
   "cell_type": "markdown",
   "id": "a79276f6",
   "metadata": {},
   "source": [
    "## 📊 Chart 2: Family History vs Treatment"
   ]
  },
  {
   "cell_type": "code",
   "execution_count": null,
   "id": "b5cc0c7f",
   "metadata": {},
   "outputs": [],
   "source": [
    "plt.figure(figsize=(7,5))\n",
    "sns.countplot(data=df, x='family_history', hue='treatment', palette='Set1')\n",
    "plt.title('Family History vs Mental Health Treatment')\n",
    "plt.xlabel('Family History')\n",
    "plt.ylabel('Number of Respondents')\n",
    "plt.legend(title='Sought Treatment')\n",
    "plt.tight_layout()\n",
    "plt.show()"
   ]
  },
  {
   "cell_type": "markdown",
   "id": "8ccd1ab1",
   "metadata": {},
   "source": [
    "## 📊 Chart 3: Remote Work vs Work Interference"
   ]
  },
  {
   "cell_type": "code",
   "execution_count": null,
   "id": "30a2b97a",
   "metadata": {},
   "outputs": [],
   "source": [
    "plt.figure(figsize=(8,5))\n",
    "sns.countplot(data=df, x='remote_work', hue='work_interfere', palette='Pastel1')\n",
    "plt.title('Remote Work vs Work Interference')\n",
    "plt.xlabel('Remote Work')\n",
    "plt.ylabel('Number of Respondents')\n",
    "plt.legend(title='Work Interference', bbox_to_anchor=(1.05, 1), loc='upper left')\n",
    "plt.tight_layout()\n",
    "plt.show()"
   ]
  },
  {
   "cell_type": "markdown",
   "id": "7a4b1731",
   "metadata": {},
   "source": [
    "## 📊 Chart 4: Company Size vs Mental Health Benefits"
   ]
  },
  {
   "cell_type": "code",
   "execution_count": null,
   "id": "37c9c994",
   "metadata": {},
   "outputs": [],
   "source": [
    "plt.figure(figsize=(10,5))\n",
    "sns.countplot(data=df, x='no_employees', hue='benefits', palette='Set3')\n",
    "plt.title('Company Size vs Mental Health Benefits')\n",
    "plt.xlabel('Company Size')\n",
    "plt.ylabel('Number of Respondents')\n",
    "plt.xticks(rotation=45)\n",
    "plt.legend(title='Benefits')\n",
    "plt.tight_layout()\n",
    "plt.show()"
   ]
  },
  {
   "cell_type": "markdown",
   "id": "4440adae",
   "metadata": {},
   "source": [
    "## 📊 Chart 5: Work Interfere vs Treatment"
   ]
  },
  {
   "cell_type": "code",
   "execution_count": null,
   "id": "4c8d8e16",
   "metadata": {},
   "outputs": [],
   "source": [
    "plt.figure(figsize=(8,5))\n",
    "sns.countplot(data=df, x='work_interfere', hue='treatment', palette='Set2')\n",
    "plt.title('Work Interference vs Treatment')\n",
    "plt.xlabel('Work Interference')\n",
    "plt.ylabel('Number of Respondents')\n",
    "plt.legend(title='Sought Treatment')\n",
    "plt.tight_layout()\n",
    "plt.show()"
   ]
  },
  {
   "cell_type": "markdown",
   "id": "3e9b03ea",
   "metadata": {},
   "source": [
    "## 📊 Chart 6: Mental Health Consequence vs Supervisor Discussion"
   ]
  },
  {
   "cell_type": "code",
   "execution_count": null,
   "id": "6e143645",
   "metadata": {},
   "outputs": [],
   "source": [
    "plt.figure(figsize=(8,5))\n",
    "sns.countplot(data=df, x='mental_health_consequence', hue='supervisor', palette='coolwarm')\n",
    "plt.title('Fear of Consequence vs Supervisor Discussion')\n",
    "plt.xlabel('Fear of Consequence')\n",
    "plt.ylabel('Number of Respondents')\n",
    "plt.legend(title='Discuss with Supervisor')\n",
    "plt.tight_layout()\n",
    "plt.show()"
   ]
  }
 ],
 "metadata": {},
 "nbformat": 4,
 "nbformat_minor": 5
}
